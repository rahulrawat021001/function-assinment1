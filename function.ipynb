{
  "nbformat": 4,
  "nbformat_minor": 0,
  "metadata": {
    "colab": {
      "provenance": []
    },
    "kernelspec": {
      "name": "python3",
      "display_name": "Python 3"
    },
    "language_info": {
      "name": "python"
    }
  },
  "cells": [
    {
      "cell_type": "code",
      "execution_count": null,
      "metadata": {
        "id": "4Z5bmvbdirFJ"
      },
      "outputs": [],
      "source": [
        "# @title Default title text\n",
        "\n",
        "# Theory questions\n",
        "\n",
        "1. What is the difference between a function and a method in Python?\n",
        "ans 1. In Python, a function is a reusable block of code designed to perform a specific task,\n",
        "while a method is a function that is associated with an object (or a class).\n",
        "\n",
        "2. Explain the concept of function arguments and parameters in Python.\n",
        "ans 2. In Python, function parameters are placeholders defined within the function's definition,\n",
        "while function arguments are the actual values passed to the function when it's called.\n",
        "\n",
        "3. What are the different ways to define and call a function in Python?\n",
        "ans 3. In Python, functions are defined using the def keyword, followed by the function name, parentheses\n",
        "for potential arguments, and a colon. To call a function, you use its name followed by parentheses, optionally including arguments.\n",
        "\n",
        "4. What is the purpose of the `return` statement in a Python function?\n",
        "ans 4. The purpose of the return statement in a Python function is to signal\n",
        "the end of the function's execution and return a value to the caller.\n",
        "\n",
        "5. What are iterators in Python and how do they differ from iterables?\n",
        "ans 5. An Iterable is basically an object that any user can iterate over.\n",
        "An Iterator is also an object that helps a user in iterating over another object (that is iterable).\n",
        "\n",
        "6. Explain the concept of generators in Python and how they are defined.\n",
        "ans 6. In Python, generators are functions that yield a sequence of values,\n",
        "producing them one at a time as they are needed.\n",
        "\n",
        "7. What are the advantages of using generators over regular functions?\n",
        "ans 7. Generators offer several advantages over regular functions,\n",
        "primarily concerning memory efficiency and lazy evaluation.\n",
        "\n",
        "8. What is a lambda function in Python and when is it typically used?\n",
        "ans 8. In Python, a lambda function is a small, anonymous function that can\n",
        "take any number of arguments but can only have one expression.\n",
        "\n",
        "9. In Python, a lambda function is a small, anonymous function that can take\n",
        "any number of arguments but can only have one expression.\n",
        "\n",
        "ans 9.A lambda function is an anonymous function (i.e., defined without a name)\n",
        "that can take any number of arguments but, unlike normal functions, evaluates and\n",
        "returns only one expression. Note that, unlike a normal function, we don't surround\n",
        "the parameters of a lambda function with parentheses\n",
        "\n",
        "10. What is the difference between `map()`, `reduce()`, and `filter()` functions in Python?\n",
        "\n",
        "ans 10. In Python, map(), filter(), and reduce() are powerful tools for functional programming\n",
        "that operate on iterables. map() applies a function to every element of an iterable and returns\n",
        "a new iterable with the results, effectively transforming elements. filter() applies a function\n",
        "that returns a boolean value to each element, returning a new iterable containing only the elements\n",
        "for which the function evaluates to true. reduce(), on the other hand, takes a function that operates\n",
        "on two arguments and reduces the iterable to a single value. It's important to note that reduce() is\n",
        "not a built-in function in Python 3; it's available in the functools module.\n",
        "\n",
        "11. Using pen & Paper write the internal mechanism for sum operation using reduce function on this given list:[47,11,42,13]:\n",
        "\n",
        "\n"
      ]
    },
    {
      "cell_type": "code",
      "source": [
        "# Practical Questions:\n",
        "# 1. Write a Python function that takes a list of numbers as input and returns the sum of all even numbers in the list.\n",
        "numbers=[1,2,3,4,5,6,7,8,9,10]\n",
        "def sum_even_numbers(numbers):\n",
        "  sum = 0\n",
        "  for num in numbers:\n",
        "    if num % 2 == 0:\n",
        "      sum +=num\n",
        "  return sum\n",
        "print(sum_even_numbers(numbers))"
      ],
      "metadata": {
        "colab": {
          "base_uri": "https://localhost:8080/"
        },
        "id": "AUQFHg9Plp6j",
        "outputId": "01a7119e-4476-47e8-c7a7-477f96a2f7b2"
      },
      "execution_count": null,
      "outputs": [
        {
          "output_type": "stream",
          "name": "stdout",
          "text": [
            "30\n"
          ]
        }
      ]
    },
    {
      "cell_type": "code",
      "source": [
        "# 2. Create a Python function that accepts a string and returns the reverse of that string.\n",
        "text = \"hello\"\n",
        "reversed_text = reverse_string(text)\n",
        "print(reversed_text)\n"
      ],
      "metadata": {
        "id": "JiD7p9RVXuXQ",
        "colab": {
          "base_uri": "https://localhost:8080/"
        },
        "outputId": "e68f598a-efca-423b-e36e-0df01acfa0cd"
      },
      "execution_count": null,
      "outputs": [
        {
          "output_type": "stream",
          "name": "stdout",
          "text": [
            "olleh\n"
          ]
        }
      ]
    },
    {
      "cell_type": "code",
      "source": [
        "# 3. Implement a Python function that takes a list of integers and returns a new list containing the squares of each number.\n",
        "def square(x):\n",
        "  return x*x\n",
        "a=map(square,{1,2,3,4,5,6,7,8,9,10})\n",
        "print(list(a))\n"
      ],
      "metadata": {
        "colab": {
          "base_uri": "https://localhost:8080/"
        },
        "id": "4GOr5e57XE2c",
        "outputId": "7fbb25f8-2ab9-429c-fec7-8c271f74d5d5"
      },
      "execution_count": null,
      "outputs": [
        {
          "output_type": "stream",
          "name": "stdout",
          "text": [
            "[1, 4, 9, 16, 25, 36, 49, 64, 81, 100]\n"
          ]
        }
      ]
    },
    {
      "cell_type": "code",
      "source": [
        "# 4. Write a Python function that checks if a given number is prime or not from 1 to 200.\n",
        "z=int(input('enter the prime no.:'))\n",
        "def prime_number(z):\n",
        "  if z%1==0 and z%z==0:\n",
        "    print('a prime number')\n",
        "  else:\n",
        "    print('not a prime number')\n",
        "prime_number(z)\n"
      ],
      "metadata": {
        "colab": {
          "base_uri": "https://localhost:8080/"
        },
        "id": "Eur9GqhvX2rJ",
        "outputId": "c4483004-65fd-4103-a02f-a2f5fac8e670"
      },
      "execution_count": null,
      "outputs": [
        {
          "output_type": "stream",
          "name": "stdout",
          "text": [
            "enter the prime no.:46\n",
            "a prime number\n"
          ]
        }
      ]
    },
    {
      "cell_type": "code",
      "source": [
        "# 5. Create an iterator class in Python that generates the Fibonacci sequence up to a specified number of terms.\n",
        "class FibonacciIterator:\n",
        "    def __init__(self, max_terms):\n",
        "        self.max_terms = max_terms\n",
        "        self.current_term = 0\n",
        "        self.a = 0\n",
        "        self.b = 1\n",
        "\n",
        "    def __iter__(self):\n",
        "        return self\n",
        "\n",
        "    def __next__(self):\n",
        "        if self.current_term < self.max_terms:\n",
        "            result = self.a\n",
        "            self.a, self.b = self.b, self.a + self.b\n",
        "            self.current_term += 1\n",
        "            return result\n",
        "        else:\n",
        "            raise StopIteration\n",
        "\n",
        "fib = FibonacciIterator(10)\n",
        "for num in fib:\n",
        "    print(num)\n"
      ],
      "metadata": {
        "id": "Ouwv4DFJKLOo",
        "colab": {
          "base_uri": "https://localhost:8080/"
        },
        "outputId": "8749ff10-3a99-417c-93b8-3977e2963bb3"
      },
      "execution_count": null,
      "outputs": [
        {
          "output_type": "stream",
          "name": "stdout",
          "text": [
            "0\n",
            "1\n",
            "1\n",
            "2\n",
            "3\n",
            "5\n",
            "8\n",
            "13\n",
            "21\n",
            "34\n"
          ]
        }
      ]
    },
    {
      "cell_type": "code",
      "source": [
        "# 6. Write a generator function in Python that yields the powers of 2 up to a given exponent.\n",
        "def power(x):\n",
        "  yield x**2\n",
        "a=power(6)\n",
        "print(next(a))"
      ],
      "metadata": {
        "colab": {
          "base_uri": "https://localhost:8080/"
        },
        "id": "YxiYsrXkz6RK",
        "outputId": "b7ed9e75-a530-4578-e027-0d955c79aa1f"
      },
      "execution_count": null,
      "outputs": [
        {
          "output_type": "stream",
          "name": "stdout",
          "text": [
            "36\n"
          ]
        }
      ]
    },
    {
      "cell_type": "code",
      "source": [
        " # 7. Implement a generator function that reads a file line by line and yields each line as a string.\n",
        " def read_lines(file_path):\n",
        "  with open(file_path, 'r') as file:\n",
        "    for line in file:\n",
        "      yield line"
      ],
      "metadata": {
        "id": "m2nz0jUnUlds"
      },
      "execution_count": null,
      "outputs": []
    },
    {
      "cell_type": "code",
      "source": [
        "# 8. Use a lambda function in Python to sort a list of tuples based on the second element of each tuple.\n",
        "# example 1\n",
        "data = [(1, 3), (4, 1), (2, 5), (3, 2)]\n",
        "sorted_data = sorted(data, key=lambda x: x[1])\n",
        "print(sorted_data)\n",
        "\n",
        "# example 2\n",
        "name=[\"rahul\",\"girl\",\"male\",\"female\",\"boy\"]\n",
        "s=sorted(name,key=lambda x:x[2])\n",
        "print(s)"
      ],
      "metadata": {
        "id": "aGIZXrQMsUYT",
        "colab": {
          "base_uri": "https://localhost:8080/"
        },
        "outputId": "71486f2c-dca2-493b-eff9-00abedbb2b6d"
      },
      "execution_count": null,
      "outputs": [
        {
          "output_type": "stream",
          "name": "stdout",
          "text": [
            "[(4, 1), (3, 2), (1, 3), (2, 5)]\n",
            "['rahul', 'male', 'female', 'girl', 'boy']\n"
          ]
        }
      ]
    },
    {
      "cell_type": "markdown",
      "source": [],
      "metadata": {
        "id": "nuEtbTaGSUET"
      }
    },
    {
      "cell_type": "code",
      "source": [
        " # 9. Write a Python program that uses `map()` to convert a list of temperatures from Celsius to Fahrenheit.\n",
        "\n",
        "def convert_to_fahrenheit(celsius):\n",
        "  return (celsius * 9/5) + 32\n",
        "celcious=[34]\n",
        "print(list(map(convert_to_fahrenheit, celcious)))\n"
      ],
      "metadata": {
        "colab": {
          "base_uri": "https://localhost:8080/"
        },
        "id": "6s9AQTS_tXiq",
        "outputId": "65075874-daf5-45f5-86fd-4f48dabd0723"
      },
      "execution_count": null,
      "outputs": [
        {
          "output_type": "stream",
          "name": "stdout",
          "text": [
            "[93.2]\n"
          ]
        }
      ]
    },
    {
      "cell_type": "code",
      "source": [
        "# 10. Create a Python program that uses `filter()` to remove all the vowels from a given string.\n",
        "def remove_vowels(char):\n",
        "  vowels = \"aeiouAEIOU\"\n",
        "  return char not in vowels\n",
        "input_string = \"Hello, World!\"\n",
        "result = \"\".join(filter(remove_vowels, input_string))\n",
        "result\n"
      ],
      "metadata": {
        "colab": {
          "base_uri": "https://localhost:8080/",
          "height": 35
        },
        "id": "17_HxmOCuC_5",
        "outputId": "b4de634b-4694-47c4-b121-2b748f9cab91"
      },
      "execution_count": null,
      "outputs": [
        {
          "output_type": "execute_result",
          "data": {
            "text/plain": [
              "'Hll, Wrld!'"
            ],
            "application/vnd.google.colaboratory.intrinsic+json": {
              "type": "string"
            }
          },
          "metadata": {},
          "execution_count": 42
        }
      ]
    },
    {
      "cell_type": "code",
      "source": [],
      "metadata": {
        "id": "Koe2u87oYtnW"
      },
      "execution_count": null,
      "outputs": []
    }
  ]
}